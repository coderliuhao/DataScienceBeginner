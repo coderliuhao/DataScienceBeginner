{
 "cells": [
  {
   "cell_type": "markdown",
   "metadata": {},
   "source": [
    "## 基于决策树原理的纯python实现"
   ]
  },
  {
   "cell_type": "code",
   "execution_count": 1,
   "metadata": {
    "ExecuteTime": {
     "end_time": "2020-08-11T11:02:14.960660Z",
     "start_time": "2020-08-11T11:02:14.108958Z"
    }
   },
   "outputs": [],
   "source": [
    "from matplotlib.font_manager import FontProperties\n",
    "import matplotlib.pyplot as plt\n",
    "from math import log\n",
    "import operator\n",
    "import pickle"
   ]
  },
  {
   "cell_type": "code",
   "execution_count": 2,
   "metadata": {
    "ExecuteTime": {
     "end_time": "2020-08-11T11:02:14.969639Z",
     "start_time": "2020-08-11T11:02:14.962655Z"
    }
   },
   "outputs": [],
   "source": [
    "#计算香农熵\n",
    "def cal_shanno_entropy(dataset):\n",
    "    num_samples=len(dataset)#获取样本长度\n",
    "    label_count={}#分类标签计数\n",
    "    for feat_vector in dataset:\n",
    "        cur_label=feat_vector[-1]#获取每个记录的最后一个值，即分类标签\n",
    "        if cur_label not in label_count.keys():\n",
    "            label_count[cur_label]=0\n",
    "        label_count[cur_label]+=1\n",
    "    shanno_entropy=0.0 #初始化香农熵值\n",
    "    for key in label_count:\n",
    "        prob=float(label_count[key])/num_samples #计算每个分类标签出现的概率\n",
    "        shanno_entropy-=prob*log(prob,2)#香农熵计算公式\n",
    "    return shanno_entropy    "
   ]
  },
  {
   "cell_type": "code",
   "execution_count": 3,
   "metadata": {
    "ExecuteTime": {
     "end_time": "2020-08-11T11:02:14.984596Z",
     "start_time": "2020-08-11T11:02:14.972631Z"
    }
   },
   "outputs": [],
   "source": [
    "#创建数据集\n",
    "def create_dataset():\n",
    "    dataset=[[0, 0, 0, 0, 'no'],  \n",
    "          [0, 0, 0, 1, 'no'],\n",
    "          [0, 1, 0, 1, 'yes'],\n",
    "          [0, 1, 1, 0, 'yes'],\n",
    "          [0, 0, 0, 0, 'no'],\n",
    "          [1, 0, 0, 0, 'no'],\n",
    "          [1, 0, 0, 1, 'no'],\n",
    "          [1, 1, 1, 1, 'yes'],\n",
    "          [1, 0, 1, 2, 'yes'],\n",
    "          [1, 0, 1, 2, 'yes'],\n",
    "          [2, 0, 1, 2, 'yes'],\n",
    "          [2, 0, 1, 1, 'yes'],\n",
    "          [2, 1, 0, 1, 'yes'],\n",
    "          [2, 1, 0, 2, 'yes'],\n",
    "          [2, 0, 0, 0, 'no']]\n",
    "    labels=[\"年龄\",\"有工作\",\"有自己的房子\",\"信贷情况\"]\n",
    "    return dataset,labels"
   ]
  },
  {
   "cell_type": "code",
   "execution_count": 4,
   "metadata": {
    "ExecuteTime": {
     "end_time": "2020-08-11T11:02:14.994569Z",
     "start_time": "2020-08-11T11:02:14.986592Z"
    }
   },
   "outputs": [],
   "source": [
    "#按照给定特征划分数据集\n",
    "def split_dataset(dataset,col,value):\n",
    "    splited_dataset=[] #初始化切分后的数据集\n",
    "    for feat_vector in dataset: #遍历数据集每行记录\n",
    "        if feat_vector[col]==value:\n",
    "            delete_col=feat_vector[:col] #将被切分的特征设置为右边界，意味着删除地col列\n",
    "            delete_col.extend(feat_vector[col+1:])#将被删除列右侧的数据补上\n",
    "            splited_dataset.append(delete_col)#将每行记录添加到被分割的数据集列表\n",
    "    return splited_dataset        \n",
    "            "
   ]
  },
  {
   "cell_type": "code",
   "execution_count": 5,
   "metadata": {
    "ExecuteTime": {
     "end_time": "2020-08-11T11:02:15.004544Z",
     "start_time": "2020-08-11T11:02:14.997563Z"
    }
   },
   "outputs": [],
   "source": [
    "#依据信息增益寻找最优划分的特征\n",
    "def find_best_feature_to_split(dataset):\n",
    "    num_feats=len(dataset[0])-1 #特征个数为特征向量长度减去最后一位的分类标签\n",
    "    label_shanno=cal_shanno_entropy(dataset)#计算分类标签的熵值\n",
    "    best_info_gain=0.0 #初始化最大的信息增益\n",
    "    best_feat_idx=-1 #初始化最优分割特征索引\n",
    "    \n",
    "    for col in range(num_feats):#遍历所有特征\n",
    "        feat_col=[feat_vector[col] for feat_vector in dataset]#将每个特征列取出\n",
    "        unique_val=set(feat_col)#获取每列特征的不同值\n",
    "        feat_entropy=0.0#初始化特征的信息熵\n",
    "        for val in unique_val:\n",
    "            sub_dataset=split_dataset(dataset,col,val)#计算每个特征按照各自不同值划分的数据子集\n",
    "            prob_sub_dataset=len(sub_dataset)/float(len(dataset))#计算数据子集概率\n",
    "            feat_entropy+=prob_sub_dataset*cal_shanno_entropy(sub_dataset)#将各个特征依照不同值切分的数据集计算信息熵并且加总\n",
    "        info_gain=label_shanno-feat_entropy#信息增益计算\n",
    "        \n",
    "        if info_gain>best_info_gain: #判断是否为最大信息增益\n",
    "            best_info_gain=info_gain#不是则更新最大信息增益值\n",
    "            best_feat_idx=col#更新最优划分特征索引即信息增益最大 并返回\n",
    "   \n",
    "    return best_feat_idx         "
   ]
  },
  {
   "cell_type": "code",
   "execution_count": 6,
   "metadata": {
    "ExecuteTime": {
     "end_time": "2020-08-11T11:02:15.014518Z",
     "start_time": "2020-08-11T11:02:15.008534Z"
    }
   },
   "outputs": [],
   "source": [
    "#当特征划分到只有一个，但依然无法分类时，意味着树继续生长，采用最大投票法，选择最多类别作为该类标签\n",
    "\n",
    "def max_vote_method(cate_labels):\n",
    "    cate_label_count={}#计数每个类别标签\n",
    "    for vote in cate_labels:\n",
    "        if vote not in cate_label_count.keys():\n",
    "            cate_label_count[vote]=0 #不存在则置0\n",
    "        cate_label_count[vote]+=1#出现则加1\n",
    "    sorted_label_count=sorted(cate_label_count.items(),key=operator.itemgetter(1),reverse=True)    #根据出现次数排序，返回cate_label_count出现次数最多的类别\n",
    "    return sorted_label_count[0][0]"
   ]
  },
  {
   "cell_type": "code",
   "execution_count": 19,
   "metadata": {
    "ExecuteTime": {
     "end_time": "2020-08-11T11:10:47.851662Z",
     "start_time": "2020-08-11T11:10:47.844682Z"
    }
   },
   "outputs": [],
   "source": [
    "##决策树 核心程序\n",
    "\n",
    "def create_Tree(dataset,feat_labels,best_feat_labels):\n",
    "    cate_labels=[feat_vector[-1] for feat_vector in dataset]#获取每个特征向量最后的分类标签值\n",
    "    if cate_labels.count(cate_labels[0])==len(cate_labels):#判断是否都为同一类\n",
    "        return cate_labels[0]\n",
    "    if len(dataset[0])==1:#遍历所有特征，返回出现次数最多的类标签\n",
    "        return max_vote_method(cate_labels)\n",
    "    best_feat=find_best_feature_to_split(dataset)#选择最优特征\n",
    "    best_feat_label=feat_labels[best_feat]#获得最优特征的标签\n",
    "    best_feat_labels.append(best_feat_label)\n",
    "    Tree={best_feat_label:{}}#根据最优特征的标签生成树\n",
    "    del feat_labels[best_feat]#删除已经使用的特征标签\n",
    "    feat_vals=[feat_vect[best_feat] for feat_vect in dataset]#获取最优特征列的全部数据\n",
    "    unique_vals=set(feat_vals)#去重\n",
    "    \n",
    "    for val in unique_vals:#遍历全部特征的所有不同取值\n",
    "        Tree[best_feat_label][val]=create_Tree(split_dataset(dataset,best_feat,val),feat_labels,best_feat_labels)\n",
    "        #递归创建决策树\n",
    "    return Tree\n",
    "    "
   ]
  },
  {
   "cell_type": "code",
   "execution_count": 8,
   "metadata": {
    "ExecuteTime": {
     "end_time": "2020-08-11T11:02:15.035461Z",
     "start_time": "2020-08-11T11:02:15.028479Z"
    }
   },
   "outputs": [],
   "source": [
    "#获取决策树叶子节点数目\n",
    "def get_leaf_nums(Tree):\n",
    "    num_leafs=0#初始化叶子\n",
    "    first_level=next(iter(Tree))#第一层根节点\n",
    "    second_dict=Tree[first_level]#获取根节点下数据\n",
    "    for key in second_dict.keys():\n",
    "        if type(second_dict[key]).__name__==\"dict\":#判断是否为叶子节点，若为叶子节点，则类型不为dict\n",
    "            num_leafs+=get_leaf_nums(second_dict[key])#递归，直到找到叶子节点\n",
    "        else:\n",
    "            num_leafs+=1 #判断为否时，意味着是叶子节点，则数量加1\n",
    "    return num_leafs        "
   ]
  },
  {
   "cell_type": "code",
   "execution_count": 9,
   "metadata": {
    "ExecuteTime": {
     "end_time": "2020-08-11T11:02:15.045434Z",
     "start_time": "2020-08-11T11:02:15.038455Z"
    }
   },
   "outputs": [],
   "source": [
    "#获取决策树层数\n",
    "def get_max_depth(Tree):\n",
    "    max_depth=0#初始化最大深度\n",
    "    first_level=next(iter(Tree))\n",
    "    second_dict=Tree[first_level]\n",
    "    for key in second_dict.keys():\n",
    "        if type(second_dict[key]).__name__==\"dict\":\n",
    "            cur_depth=1+get_max_depth(second_dict[key])#递归直到找到最后的叶子节点\n",
    "        else:\n",
    "            cur_depth=1#找到叶子节点时当前深度加1\n",
    "        if cur_depth>max_depth:#判断当前深度是否为最大深度\n",
    "            max_depth=cur_depth#若是则更新当前深度为最大深度\n",
    "    return max_depth        "
   ]
  },
  {
   "cell_type": "code",
   "execution_count": 10,
   "metadata": {
    "ExecuteTime": {
     "end_time": "2020-08-11T11:02:15.058413Z",
     "start_time": "2020-08-11T11:02:15.048428Z"
    }
   },
   "outputs": [],
   "source": [
    "#绘制节点\n",
    "\n",
    "def plot_Node(node_name,center_posit,parent_posit,node_type):\n",
    "    arrow_args=dict(arrowstyle=\"<-\")\n",
    "    font=FontProperties(fname=r\"C:\\windows\\fonts\\simsun.ttc\",size=14)\n",
    "    build_plot_pannel.ax1.annotate(node_name,xy=parent_posit,xycoords=\"axes fraction\",xytext=center_posit,textcoords=\"axes fraction\",va=\"center\",ha=\"center\",bbox=node_type,arrowprops=arrow_args,FontProperties=font)"
   ]
  },
  {
   "cell_type": "code",
   "execution_count": 11,
   "metadata": {
    "ExecuteTime": {
     "end_time": "2020-08-11T11:02:15.072362Z",
     "start_time": "2020-08-11T11:02:15.061392Z"
    }
   },
   "outputs": [],
   "source": [
    "#标注有向边属性值\n",
    "def plot_mid_name(center_posit,parent_posit,node_text):\n",
    "    x_mid=(parent_posit[0]-center_posit[0])/2.0+center_posit[0]\n",
    "    y_mid=(parent_posit[1]-center_posit[1])/2.0+center_posit[1]\n",
    "    build_plot_pannel.ax1.text(x_mid,y_mid,node_text,va=\"center\",ha=\"center\",rotation=30)"
   ]
  },
  {
   "cell_type": "code",
   "execution_count": 12,
   "metadata": {
    "ExecuteTime": {
     "end_time": "2020-08-11T11:02:15.086325Z",
     "start_time": "2020-08-11T11:02:15.075354Z"
    }
   },
   "outputs": [],
   "source": [
    "#绘制决策树\n",
    "def plot_Tree(Tree,parent_posit,node_name):\n",
    "    decision_node=dict(boxstyle=\"sawtooth\",fc=\"0.8\")\n",
    "    leaf_node=dict(boxstyle=\"round4\",fc=\"0.8\")\n",
    "    num_leafs=get_leaf_nums(Tree)\n",
    "    depth=get_max_depth(Tree)\n",
    "    \n",
    "    first_level=next(iter(Tree))\n",
    "    center_posit=(plot_Tree.xOff+(1.0+float(num_leafs))/2.0/plot_Tree.totalW,plot_Tree.yOff)\n",
    "    plot_mid_name(center_posit,parent_posit,node_name)\n",
    "    plot_Node(first_level,center_posit,parent_posit,decision_node)\n",
    "    second_dict=Tree[first_level]\n",
    "    plot_Tree.yOff=plot_Tree.yOff-1.0/plot_Tree.totalD\n",
    "    for key in second_dict.keys():\n",
    "        if type(second_dict[key]).__name__==\"dict\":\n",
    "            plot_Tree(second_dict[key],center_posit,str(key))\n",
    "        else:\n",
    "            plot_Tree.xOff=plot_Tree.xOff+1.0/plot_Tree.totalW\n",
    "            plot_Node(second_dict[key],(plot_Tree.xOff,plot_Tree.yOff),center_posit,leaf_node)\n",
    "    \n",
    "    plot_Tree.yOff=plot_Tree.yOff+1.0/plot_Tree.totalD\n",
    "    \n",
    "    "
   ]
  },
  {
   "cell_type": "code",
   "execution_count": 13,
   "metadata": {
    "ExecuteTime": {
     "end_time": "2020-08-11T11:02:15.099292Z",
     "start_time": "2020-08-11T11:02:15.088321Z"
    }
   },
   "outputs": [],
   "source": [
    "#创建绘制面板\n",
    "def build_plot_pannel(Tree):\n",
    "    fig=plt.figure(1,facecolor=\"white\")\n",
    "    fig.clf()\n",
    "    ax_prop=dict(xticks=[],yticks=[])\n",
    "    build_plot_pannel.ax1=plt.subplot(111,frameon=False,**ax_prop)\n",
    "    plot_Tree.totalW=float(get_leaf_nums(Tree))\n",
    "    plot_Tree.totalD=float(get_max_depth(Tree))\n",
    "    plot_Tree.xOff=-0.5/plot_Tree.totalW\n",
    "    plot_Tree.yOff=1.0\n",
    "    plot_Tree(Tree,(0.5,1.0),\"\")\n",
    "    plt.show()"
   ]
  },
  {
   "cell_type": "code",
   "execution_count": 14,
   "metadata": {
    "ExecuteTime": {
     "end_time": "2020-08-11T11:02:15.112255Z",
     "start_time": "2020-08-11T11:02:15.102283Z"
    }
   },
   "outputs": [],
   "source": [
    "#使用决策树分类\n",
    "\n",
    "def classifier(built_tree,best_feat_labels,test_X):\n",
    "    first_level=next(iter(built_tree))\n",
    "    second_dict=built_tree[first_level]\n",
    "    feat_idx=best_feat_labels.index(first_level)#根节点的特征索引\n",
    "    for key in second_dict.keys():#遍历第一个根节点下所有的特征\n",
    "        if test_X[feat_idx]==key:#判断测试数据特征种类是否一致\n",
    "            if type(second_dict[key]).__name__==\"dict\":#若当前节点下还有分裂可能则在更深处递归寻找与测试数据匹配的节点\n",
    "                classify_res=classifier(second_dict[key],best_feat_labels,test_X)\n",
    "            else:\n",
    "                classify_res=second_dict[key]#返回当前叶子节点的类别作为分类结果\n",
    "    return classify_res"
   ]
  },
  {
   "cell_type": "code",
   "execution_count": 15,
   "metadata": {
    "ExecuteTime": {
     "end_time": "2020-08-11T11:02:15.120238Z",
     "start_time": "2020-08-11T11:02:15.116249Z"
    }
   },
   "outputs": [],
   "source": [
    "#存储决策树\n",
    "\n",
    "def save_Tree(built_tree,filename):\n",
    "    with open(filename,\"wb\") as sT:\n",
    "        pickle.dump(built_tree,sT)"
   ]
  },
  {
   "cell_type": "code",
   "execution_count": 16,
   "metadata": {
    "ExecuteTime": {
     "end_time": "2020-08-11T11:02:15.130209Z",
     "start_time": "2020-08-11T11:02:15.123226Z"
    }
   },
   "outputs": [],
   "source": [
    "#读取决策树\n",
    "def read_Tree_file(filename):\n",
    "    sT_read=open(filename,\"rb\")\n",
    "    return pickle.load(sT_read)\n"
   ]
  },
  {
   "cell_type": "code",
   "execution_count": 20,
   "metadata": {
    "ExecuteTime": {
     "end_time": "2020-08-11T11:10:52.055853Z",
     "start_time": "2020-08-11T11:10:51.775654Z"
    }
   },
   "outputs": [
    {
     "name": "stdout",
     "output_type": "stream",
     "text": [
      "最优特征索引:2\n",
      "{'有自己的房子': {0: {'有工作': {0: 'no', 1: 'yes'}}, 1: 'yes'}}\n"
     ]
    },
    {
     "data": {
      "image/png": "[encoded data removed]",
      "text/plain": [
       "<Figure size 432x288 with 1 Axes>"
      ]
     },
     "metadata": {},
     "output_type": "display_data"
    },
    {
     "name": "stdout",
     "output_type": "stream",
     "text": [
      "no\n",
      "不放贷\n"
     ]
    }
   ],
   "source": [
    "if __name__==\"__main__\":\n",
    "    dataset,labels=create_dataset()\n",
    "    print(\"最优特征索引:\"+str(find_best_feature_to_split(dataset)))\n",
    "    best_feat_labels=[]\n",
    "    Tree=create_Tree(dataset,labels,best_feat_labels)\n",
    "    print(Tree)\n",
    "    build_plot_pannel(Tree)\n",
    "    test_X=[0,0,0,0]\n",
    "    result=classifier(Tree,best_feat_labels,test_X)\n",
    "    print(result)\n",
    "    if result==\"yes\":\n",
    "        print(\"放贷\")\n",
    "    if result==\"no\":\n",
    "        print(\"不放贷\")\n",
    "        \n"
   ]
  },
  {
   "cell_type": "markdown",
   "metadata": {},
   "source": [
    "## 使用sklearn的decision tree实现"
   ]
  },
  {
   "cell_type": "code",
   "execution_count": 21,
   "metadata": {
    "ExecuteTime": {
     "end_time": "2020-08-11T11:10:57.902402Z",
     "start_time": "2020-08-11T11:10:56.076896Z"
    }
   },
   "outputs": [
    {
     "name": "stderr",
     "output_type": "stream",
     "text": [
      "F:\\Ana\\Lib\\site-packages\\sklearn\\externals\\six.py:31: FutureWarning: The module is deprecated in version 0.21 and will be removed in version 0.23 since we've dropped support for Python 2.7. Please rely on the official version of six (https://pypi.org/project/six/).\n",
      "  \"(https://pypi.org/project/six/).\", FutureWarning)\n"
     ]
    }
   ],
   "source": [
    "import pandas as pd\n",
    "import pydotplus\n",
    "from sklearn import tree\n",
    "from sklearn.externals.six import StringIO\n",
    "from sklearn.preprocessing import LabelEncoder"
   ]
  },
  {
   "cell_type": "code",
   "execution_count": null,
   "metadata": {
    "ExecuteTime": {
     "end_time": "2020-08-11T11:02:15.223958Z",
     "start_time": "2020-08-11T11:02:14.132Z"
    }
   },
   "outputs": [],
   "source": [
    "#!pip install --user pydotplus"
   ]
  },
  {
   "cell_type": "code",
   "execution_count": 23,
   "metadata": {
    "ExecuteTime": {
     "end_time": "2020-08-11T11:13:22.748439Z",
     "start_time": "2020-08-11T11:13:22.476177Z"
    }
   },
   "outputs": [
    {
     "name": "stdout",
     "output_type": "stream",
     "text": [
      "['hard']\n"
     ]
    }
   ],
   "source": [
    "if __name__==\"__main__\":\n",
    "    with open(\"lenses.txt\",\"r\") as fr:\n",
    "        lenses=[line.strip().split(\"\\t\") for line in fr.readlines()]\n",
    "    lenses_target=[]\n",
    "    for feat_vect in lenses:\n",
    "        lenses_target.append(feat_vect[-1])\n",
    "    \n",
    "    lenses_labels=[\"age\",\"prescript\",\"astigmatic\",\"tearRate\"]\n",
    "    lenses_list=[]\n",
    "    lenses_dict={}\n",
    "    for feat_label in lenses_labels:\n",
    "        for feat_vect in lenses:\n",
    "            lenses_list.append(feat_vect[lenses_labels.index(feat_label)])\n",
    "        lenses_dict[feat_label]=lenses_list\n",
    "        lenses_list=[]\n",
    "    lenses_df=pd.DataFrame(lenses_dict)\n",
    "    \n",
    "    label_encode=LabelEncoder()\n",
    "    for col in lenses_df.columns:\n",
    "        lenses_df[col]=label_encode.fit_transform(lenses_df[col])\n",
    "    \n",
    "    clf=tree.DecisionTreeClassifier(max_depth=4)\n",
    "    clf=clf.fit(lenses_df.values.tolist(),lenses_target)\n",
    "    \n",
    "    dot1_data=StringIO()\n",
    "    tree.export_graphviz(clf,out_file=dot1_data,feature_names=lenses_df.keys(),class_names=clf.classes_,filled=True,rounded=True,special_characters=True)\n",
    "    \n",
    "    graph=pydotplus.graph_from_dot_data(dot1_data.getvalue())\n",
    "    graph.write_pdf(\"tree.pdf\")\n",
    "    print(clf.predict([[1,1,1,0]]))\n"
   ]
  },
  {
   "cell_type": "code",
   "execution_count": null,
   "metadata": {},
   "outputs": [],
   "source": []
  },
  {
   "cell_type": "code",
   "execution_count": null,
   "metadata": {},
   "outputs": [],
   "source": []
  }
 ],
 "metadata": {
  "kernelspec": {
   "display_name": "Python 3",
   "language": "python",
   "name": "python3"
  },
  "language_info": {
   "codemirror_mode": {
    "name": "ipython",
    "version": 3
   },
   "file_extension": ".py",
   "mimetype": "text/x-python",
   "name": "python",
   "nbconvert_exporter": "python",
   "pygments_lexer": "ipython3",
   "version": "3.6.5"
  },
  "toc": {
   "base_numbering": 1,
   "nav_menu": {},
   "number_sections": true,
   "sideBar": true,
   "skip_h1_title": false,
   "title_cell": "Table of Contents",
   "title_sidebar": "Contents",
   "toc_cell": false,
   "toc_position": {},
   "toc_section_display": true,
   "toc_window_display": false
  },
  "varInspector": {
   "cols": {
    "lenName": 16,
    "lenType": 16,
    "lenVar": 40
   },
   "kernels_config": {
    "python": {
     "delete_cmd_postfix": "",
     "delete_cmd_prefix": "del ",
     "library": "var_list.py",
     "varRefreshCmd": "print(var_dic_list())"
    },
    "r": {
     "delete_cmd_postfix": ") ",
     "delete_cmd_prefix": "rm(",
     "library": "var_list.r",
     "varRefreshCmd": "cat(var_dic_list()) "
    }
   },
   "types_to_exclude": [
    "module",
    "function",
    "builtin_function_or_method",
    "instance",
    "_Feature"
   ],
   "window_display": false
  }
 },
 "nbformat": 4,
 "nbformat_minor": 2
}
